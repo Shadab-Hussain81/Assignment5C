{
 "cells": [
  {
   "cell_type": "markdown",
   "id": "b25e5b09-c21b-4ea2-9a79-06c3f51a3c71",
   "metadata": {},
   "source": [
    "Que 1. What does an empty dictionary's code look like?"
   ]
  },
  {
   "cell_type": "markdown",
   "id": "2358287c-f945-4e3c-a7ab-57d3dd63351b",
   "metadata": {},
   "source": [
    "Ans\n",
    "my_dict = {}\n",
    "In this code snippet, my_dict is an empty dictionary. It doesn't contain any key-value pairs. You can later add key-value pairs to the dictionary using the assignment operator (=) or other dictionary methods."
   ]
  },
  {
   "cell_type": "markdown",
   "id": "850ba110-0074-4b08-8710-18df0b9a0fd0",
   "metadata": {},
   "source": [
    "Que 2. What is the value of a dictionary value with the key'foo' and the value 42?"
   ]
  },
  {
   "cell_type": "code",
   "execution_count": 1,
   "id": "aa86c4f7-dee9-41fa-b0cf-9caee005335b",
   "metadata": {},
   "outputs": [
    {
     "name": "stdout",
     "output_type": "stream",
     "text": [
      "42\n"
     ]
    }
   ],
   "source": [
    "my_dict = {'foo': 42}\n",
    "value = my_dict['foo']\n",
    "print(value)"
   ]
  },
  {
   "cell_type": "markdown",
   "id": "061d85aa-5c33-4f25-9068-ede270d6b0c0",
   "metadata": {},
   "source": [
    "Que 3. What is the most significant distinction between a dictionary and a list?"
   ]
  },
  {
   "cell_type": "markdown",
   "id": "945297f8-0373-4676-b616-5503f074d398",
   "metadata": {},
   "source": [
    "Ans  A list, often referred to as an array or a sequence, is an ordered collection of elements. It allows you to store multiple items in a specific order and access them by their position, which is typically represented by an index. Lists are typically denoted by square brackets in many programming languages. For example, [1, 2, 3, 4, 5] is a list containing five elements.\n",
    "\n",
    "On the other hand, a dictionary, also known as a hash map or associative array, is an unordered collection of key-value pairs. It allows you to store and retrieve data based on unique keys. Each key in a dictionary maps to a specific value, similar to how words in a dictionary map to their definitions. Dictionaries are usually denoted by curly braces or curly brackets in various programming languages. For example, {\"name\": \"John\", \"age\": 30, \"city\": \"New York\"} is a dictionary where \"name,\" \"age,\" and \"city\" are keys, and \"John,\" 30, and \"New York\" are their corresponding values."
   ]
  },
  {
   "cell_type": "markdown",
   "id": "1b2ca383-7af5-46db-bdb2-f0a865bd0866",
   "metadata": {},
   "source": [
    "Que 4.What happens if you try to access spam['foo'] if spam is {'bar':100}?"
   ]
  },
  {
   "cell_type": "markdown",
   "id": "a1595b24-62ea-4b97-9bee-8ab0437c0d62",
   "metadata": {},
   "source": [
    "Ans If you try to access spam['foo'] when spam is {'bar': 100}, you will encounter a KeyError.\n",
    "\n",
    "In Python, dictionaries use keys to access their corresponding values. In this case, the dictionary spam has only one key, which is 'bar', and its corresponding value is 100. If you attempt to access a non-existent key like 'foo', Python will raise a KeyError since there is no such key in the dictionary."
   ]
  },
  {
   "cell_type": "markdown",
   "id": "9f435f73-0984-47b8-abb2-e82bb10b92f4",
   "metadata": {},
   "source": [
    "spam = {'bar': 100}\n",
    "# Trying to access 'foo' key, which does not exist\n",
    "value = spam['foo'] #Raises a KeyError"
   ]
  },
  {
   "cell_type": "markdown",
   "id": "48019bde-8af2-405c-8fcc-64d297093b28",
   "metadata": {},
   "source": [
    "Que 5. If a dictionary is stored in spam, what is the difference between the expressions 'cat' in spam and\n",
    "'cat'in spam.keys()?"
   ]
  },
  {
   "cell_type": "markdown",
   "id": "7681dcfc-635a-492f-97b5-d4a8d88462a5",
   "metadata": {},
   "source": [
    "Ans'cat' in spam: This expression checks whether the key 'cat' exists in the dictionary spam. It returns True if the key is present and False otherwise. It checks for the presence of the key directly within the dictionary.\n",
    "\n",
    "'cat' in spam.keys(): This expression checks whether the string 'cat' exists as a key in the dictionary spam by accessing the dictionary's keys explicitly using the keys() method. It returns True if the key is present and False otherwise. The keys() method returns a view object that contains all the keys in the dictionary, and the expression checks for the presence of 'cat' within this view object."
   ]
  },
  {
   "cell_type": "markdown",
   "id": "bfd96d5e-03d9-407d-9b2b-13f09f3405a9",
   "metadata": {},
   "source": [
    "Que 6. If a dictionary is stored in spam, what is the difference between the expressions 'cat' in spam and 'cat'in spam.values()?"
   ]
  },
  {
   "cell_type": "markdown",
   "id": "688b4bd1-6f67-4eb7-9565-1f5de7d4a97c",
   "metadata": {},
   "source": [
    "Ans 'cat' in spam:\n",
    "This expression checks whether the key 'cat' exists in the dictionary spam. It returns True if the key is present and False otherwise. It checks for the presence of the key directly within the dictionary.\n",
    "\n",
    "'cat' in spam.value():\n",
    "This expression attempts to access the method value() of the dictionary spam and then checks whether the string 'cat' is present in the result. However, dictionaries in Python do not have a built-in method called value(). Therefore, this expression would result in an error."
   ]
  },
  {
   "cell_type": "markdown",
   "id": "88594f2c-562e-4ada-b4f2-06e355c4530a",
   "metadata": {},
   "source": [
    "Que 7. What is a shortcut for the following code?\n",
    "if 'color'not in spam:\n",
    "spam['color'] = 'black'"
   ]
  },
  {
   "cell_type": "code",
   "execution_count": 3,
   "id": "f7dc348e-ab38-4e12-87f5-92b72c3acdba",
   "metadata": {},
   "outputs": [
    {
     "data": {
      "text/plain": [
       "'black'"
      ]
     },
     "execution_count": 3,
     "metadata": {},
     "output_type": "execute_result"
    }
   ],
   "source": [
    "spam.setdefault('color', 'black')"
   ]
  },
  {
   "cell_type": "markdown",
   "id": "598412bf-83c4-4897-bb72-45e1bb241edc",
   "metadata": {},
   "source": [
    "Que 8. How do you \"pretty print\" dictionary values using which module and function?"
   ]
  },
  {
   "cell_type": "code",
   "execution_count": 4,
   "id": "89743458-a424-4160-8c81-606b853923bc",
   "metadata": {},
   "outputs": [
    {
     "name": "stdout",
     "output_type": "stream",
     "text": [
      "{'address': '123 Main St',\n",
      " 'age': 30,\n",
      " 'email': 'johndoe@example.com',\n",
      " 'name': 'John Doe',\n",
      " 'phone': '555-1234'}\n"
     ]
    }
   ],
   "source": [
    "import pprint\n",
    "\n",
    "my_dict = {\n",
    "    'name': 'John Doe',\n",
    "    'age': 30,\n",
    "    'email': 'johndoe@example.com',\n",
    "    'address': '123 Main St',\n",
    "    'phone': '555-1234'\n",
    "}\n",
    "\n",
    "pprint.pprint(my_dict)"
   ]
  },
  {
   "cell_type": "code",
   "execution_count": null,
   "id": "048cccb1-f86d-49a6-836d-9471e979c235",
   "metadata": {},
   "outputs": [],
   "source": []
  }
 ],
 "metadata": {
  "kernelspec": {
   "display_name": "Python 3 (ipykernel)",
   "language": "python",
   "name": "python3"
  },
  "language_info": {
   "codemirror_mode": {
    "name": "ipython",
    "version": 3
   },
   "file_extension": ".py",
   "mimetype": "text/x-python",
   "name": "python",
   "nbconvert_exporter": "python",
   "pygments_lexer": "ipython3",
   "version": "3.10.6"
  }
 },
 "nbformat": 4,
 "nbformat_minor": 5
}
